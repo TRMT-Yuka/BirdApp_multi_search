{
 "cells": [
  {
   "cell_type": "code",
   "execution_count": 1,
   "id": "4fa4b29d",
   "metadata": {},
   "outputs": [],
   "source": [
    "import pickle\n",
    "\n",
    "with open('data/en_name_vecs.bin','rb') as bf:\n",
    "    en_name_vecs = pickle.load(bf)"
   ]
  },
  {
   "cell_type": "code",
   "execution_count": 2,
   "id": "375ea66f",
   "metadata": {},
   "outputs": [
    {
     "data": {
      "text/plain": [
       "dict"
      ]
     },
     "execution_count": 2,
     "metadata": {},
     "output_type": "execute_result"
    }
   ],
   "source": [
    "type(en_name_vecs)"
   ]
  },
  {
   "cell_type": "code",
   "execution_count": 3,
   "id": "fea93bc3",
   "metadata": {},
   "outputs": [
    {
     "data": {
      "text/plain": [
       "50567"
      ]
     },
     "execution_count": 3,
     "metadata": {},
     "output_type": "execute_result"
    }
   ],
   "source": [
    "len(en_name_vecs)"
   ]
  },
  {
   "cell_type": "code",
   "execution_count": 4,
   "id": "64e2756d",
   "metadata": {},
   "outputs": [],
   "source": [
    "en_list = en_name_vecs.keys()"
   ]
  },
  {
   "cell_type": "code",
   "execution_count": 5,
   "id": "eb732343",
   "metadata": {},
   "outputs": [
    {
     "data": {
      "text/plain": [
       "50567"
      ]
     },
     "execution_count": 5,
     "metadata": {},
     "output_type": "execute_result"
    }
   ],
   "source": [
    "len(en_list)"
   ]
  },
  {
   "cell_type": "code",
   "execution_count": 6,
   "id": "a61d9d01",
   "metadata": {},
   "outputs": [],
   "source": [
    "en_set = set(en_list)"
   ]
  },
  {
   "cell_type": "code",
   "execution_count": 7,
   "id": "f3c66e23",
   "metadata": {},
   "outputs": [
    {
     "data": {
      "text/plain": [
       "50567"
      ]
     },
     "execution_count": 7,
     "metadata": {},
     "output_type": "execute_result"
    }
   ],
   "source": [
    "len(en_set)"
   ]
  },
  {
   "cell_type": "code",
   "execution_count": 10,
   "id": "f604af31",
   "metadata": {},
   "outputs": [
    {
     "name": "stderr",
     "output_type": "stream",
     "text": [
      "<ipython-input-10-ba603b6c9554>:5: FutureWarning: The input object of type 'Tensor' is an array-like implementing one of the corresponding protocols (`__array__`, `__array_interface__` or `__array_struct__`); but not a sequence (or 0-D). In the future, this object will be coerced as if it was first converted using `np.array(obj)`. To retain the old behaviour, you have to either modify the type 'Tensor', or assign to an empty array created with `np.empty(correct_shape, dtype=object)`.\n",
      "  vectors = np.array(list(en_name_vecs.values()), dtype=np.float32)\n"
     ]
    },
    {
     "ename": "ValueError",
     "evalue": "setting an array element with a sequence. The requested array has an inhomogeneous shape after 1 dimensions. The detected shape was (50567,) + inhomogeneous part.",
     "output_type": "error",
     "traceback": [
      "\u001b[1;31m----------------------------------------------------------\u001b[0m",
      "\u001b[1;31mValueError\u001b[0m               Traceback (most recent call last)",
      "\u001b[1;32m<ipython-input-10-ba603b6c9554>\u001b[0m in \u001b[0;36m<module>\u001b[1;34m\u001b[0m\n\u001b[0;32m      3\u001b[0m \u001b[1;33m\u001b[0m\u001b[0m\n\u001b[0;32m      4\u001b[0m \u001b[1;31m# ベクトルのリストをNumPy配列に変換\u001b[0m\u001b[1;33m\u001b[0m\u001b[1;33m\u001b[0m\u001b[1;33m\u001b[0m\u001b[0m\n\u001b[1;32m----> 5\u001b[1;33m \u001b[0mvectors\u001b[0m \u001b[1;33m=\u001b[0m \u001b[0mnp\u001b[0m\u001b[1;33m.\u001b[0m\u001b[0marray\u001b[0m\u001b[1;33m(\u001b[0m\u001b[0mlist\u001b[0m\u001b[1;33m(\u001b[0m\u001b[0men_name_vecs\u001b[0m\u001b[1;33m.\u001b[0m\u001b[0mvalues\u001b[0m\u001b[1;33m(\u001b[0m\u001b[1;33m)\u001b[0m\u001b[1;33m)\u001b[0m\u001b[1;33m,\u001b[0m \u001b[0mdtype\u001b[0m\u001b[1;33m=\u001b[0m\u001b[0mnp\u001b[0m\u001b[1;33m.\u001b[0m\u001b[0mfloat32\u001b[0m\u001b[1;33m)\u001b[0m\u001b[1;33m\u001b[0m\u001b[1;33m\u001b[0m\u001b[0m\n\u001b[0m\u001b[0;32m      6\u001b[0m \u001b[1;33m\u001b[0m\u001b[0m\n\u001b[0;32m      7\u001b[0m \u001b[1;31m# インデックスを初期化\u001b[0m\u001b[1;33m\u001b[0m\u001b[1;33m\u001b[0m\u001b[1;33m\u001b[0m\u001b[0m\n",
      "\u001b[1;31mValueError\u001b[0m: setting an array element with a sequence. The requested array has an inhomogeneous shape after 1 dimensions. The detected shape was (50567,) + inhomogeneous part."
     ]
    }
   ],
   "source": [
    "import faiss\n",
    "import numpy as np\n",
    "\n",
    "# ベクトルのリストをNumPy配列に変換\n",
    "vectors = np.array(list(en_name_vecs.values()), dtype=np.float32)\n",
    "\n",
    "# インデックスを初期化\n",
    "index = faiss.IndexFlatL2(vectors.shape[1])\n",
    "index.add(vectors)"
   ]
  },
  {
   "cell_type": "code",
   "execution_count": 13,
   "id": "224849e8",
   "metadata": {},
   "outputs": [],
   "source": [
    "vectors = list(en_name_vecs.values())"
   ]
  },
  {
   "cell_type": "code",
   "execution_count": 16,
   "id": "4d6af1fa",
   "metadata": {},
   "outputs": [],
   "source": [
    "max_vectors = [0]*len(vectors)"
   ]
  },
  {
   "cell_type": "code",
   "execution_count": 17,
   "id": "fde60d19",
   "metadata": {},
   "outputs": [],
   "source": [
    "# すべてのベクトルを同じ次元に調整\n",
    "max_dim = max(len(v) for v in vectors)\n",
    "for i, v in enumerate(vectors):\n",
    "    if len(v) < max_dim:\n",
    "        max_vectors[i] = np.concatenate([v, np.zeros(max_dim - len(v), dtype=np.float32)])\n",
    "    else:\n",
    "        max_vectors[i]"
   ]
  },
  {
   "cell_type": "code",
   "execution_count": 1,
   "id": "6a23cffa",
   "metadata": {},
   "outputs": [],
   "source": [
    "# max_vectors"
   ]
  },
  {
   "cell_type": "code",
   "execution_count": null,
   "id": "f4bfe062",
   "metadata": {},
   "outputs": [],
   "source": []
  }
 ],
 "metadata": {
  "kernelspec": {
   "display_name": "Python 3",
   "language": "python",
   "name": "python3"
  },
  "language_info": {
   "codemirror_mode": {
    "name": "ipython",
    "version": 3
   },
   "file_extension": ".py",
   "mimetype": "text/x-python",
   "name": "python",
   "nbconvert_exporter": "python",
   "pygments_lexer": "ipython3",
   "version": "3.9.0"
  }
 },
 "nbformat": 4,
 "nbformat_minor": 5
}
